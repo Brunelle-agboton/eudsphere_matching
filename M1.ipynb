{
 "cells": [
  {
   "cell_type": "markdown",
   "id": "38a50384-bf26-4236-be5a-39a9c68a6fb0",
   "metadata": {
    "editable": true,
    "panel-layout": {
     "height": 51.140625,
     "visible": true,
     "width": 100
    },
    "slideshow": {
     "slide_type": ""
    },
    "tags": []
   },
   "source": [
    "Implémentation d'un système de recommandation pour notre application GPE."
   ]
  },
  {
   "cell_type": "markdown",
   "id": "525f6928-167b-4433-887c-0502a1fcf502",
   "metadata": {
    "panel-layout": {
     "height": 268.828125,
     "visible": true,
     "width": 100
    }
   },
   "source": [
    "Simuler des parents avec un ensemble de besoins pondérés.\n",
    "1) Définir les catégories\n",
    "2) Créer un dictionnaire des besoins éducatifs possibles des élèves\n",
    "3) Créer le jeu de données final avec les caractéristiques suivantes :\n",
    "   parent = {\n",
    "        \"parent_id\": ___,\n",
    "        \"nom\": ___,\n",
    "        \"prenom\":___,\n",
    "        \"niveau_scolaire\": ___,\n",
    "        \"caracteristique\": ___,\n",
    "        \"historique_notes\": ___,\n",
    "        \"besoins_prioritaires\": ___\n",
    "    }"
   ]
  },
  {
   "cell_type": "code",
   "execution_count": 1,
   "id": "c21075f8-33c2-42a8-9ef4-86fccc10c49f",
   "metadata": {
    "panel-layout": {
     "height": 0,
     "visible": true,
     "width": 100
    }
   },
   "outputs": [
    {
     "name": "stdout",
     "output_type": "stream",
     "text": [
      "  parent_id      nom    prenom niveau_scolaire              caracteristique  \\\n",
      "0  Parent_1    Payet      Marc           Lycée  difficultés d'apprentissage   \n",
      "1  Parent_2    Hamon    Sylvie           Lycée                     timidité   \n",
      "2  Parent_3  Bonneau     Roger           Lycée  difficultés d'apprentissage   \n",
      "3  Parent_4    Aubry  Théodore           Lycée                     timidité   \n",
      "4  Parent_5  Poulain   Patrick           Lycée                   motivation   \n",
      "\n",
      "  historique_notes                               besoins_prioritaires  \n",
      "0           élevée       {'Sciences': 'Expérimentation scientifique'}  \n",
      "1           élevée  {'Mathématiques': 'Statistiques', 'Préparation...  \n",
      "2          moyenne  {'Préparation aux examens': 'Préparation aux c...  \n",
      "3           élevée  {'Mathématiques': 'Calcul', 'Soutien Spécifiqu...  \n",
      "4           faible  {'Mathématiques': 'Géométrie', 'Activités Para...  \n"
     ]
    }
   ],
   "source": [
    "import pandas as pd\n",
    "import random\n",
    "from faker import Faker\n",
    "\n",
    "fake = Faker('fr_FR')  # Pour générer des noms en français\n",
    "\n",
    "# Définition des catégories\n",
    "niveaux_scolaires = [\"Collège\", \"Lycée\"]\n",
    "caracteristiques = [\"timidité\", \"difficultés d'apprentissage\", \"motivation\"]\n",
    "historique_notes = [\"faible\", \"moyenne\", \"élevée\"]\n",
    "\n",
    "# Besoins éducatifs et leurs sous-catégories\n",
    "besoins_educatifs = {\n",
    "    \"Mathématiques\": [\"Difficulté en algèbre\", \"Géométrie\", \"Calcul\", \"Statistiques\", \"Mathématiques avancées\"],\n",
    "    \"Sciences\": [\"Biologie\", \"Chimie\", \"Physique\", \"Expérimentation scientifique\"],\n",
    "    \"Littérature\": [\"Analyse de texte\", \"Compréhension de lecture\", \"Rédaction d'essais\", \"Littérature classique\", \"Poésie\"],\n",
    "    \"Préparation aux examens\": [\"Préparation au BAC\", \"Préparation au Brevet\", \"Préparation aux concours\"],\n",
    "    \"Compétences sociales\": [\"Développement de la confiance en soi\", \"Interaction sociale\", \"Orientation et conseil en carrière\", \"Gestion du stress\", \"Méthodologie et organisation\", \"Prise de parole en public\"],\n",
    "    \"Support en devoirs\": [\"Aide générale pour les devoirs\"],\n",
    "    \"Soutien Spécifique\": [\"Stratégies pour la Dyslexie\", \"Aide à la Dyscalculie\", \"Techniques de concentration\", \"Accompagnement des élèves en situation de handicap\"],\n",
    "    \"Activités Parascolaires\": [\"Arts et Musique\", \"Sports\", \"Théâtre et expression orale\", \"Activités créatives (écriture, peinture)\"]\n",
    "}\n",
    "\n",
    "# Fonction pour choisir aléatoirement des besoins (max 3 par parent)\n",
    "def choisir_besoins(besoins_dict, max_besoins=3):\n",
    "    # On prend la liste des catégories de besoins\n",
    "    categories = list(besoins_dict.keys())\n",
    "    nb_besoins = random.randint(1, max_besoins)\n",
    "    besoins_selectionnes = random.sample(categories, nb_besoins)\n",
    "    # Pour chaque catégorie, on peut également sélectionner une ou plusieurs sous-catégories\n",
    "    besoins_detail = {}\n",
    "    for b in besoins_selectionnes:\n",
    "        sous = besoins_dict[b]\n",
    "        # Sélection aléatoire d'une sous-catégorie\n",
    "        besoins_detail[b] = random.choice(sous)\n",
    "    return besoins_detail\n",
    "\n",
    "# Création d'un jeu de données de 300 profils de parents\n",
    "parents_data = []\n",
    "for i in range(300):\n",
    "    parent = {\n",
    "        \"parent_id\": f\"Parent_{i+1}\",\n",
    "        \"nom\": fake.last_name(),\n",
    "        \"prenom\": fake.first_name(),\n",
    "        \"niveau_scolaire\": random.choice(niveaux_scolaires),\n",
    "        \"caracteristique\": random.choice(caracteristiques),\n",
    "        \"historique_notes\": random.choice(historique_notes),\n",
    "        \"besoins_prioritaires\": choisir_besoins(besoins_educatifs)\n",
    "    }\n",
    "    parents_data.append(parent)\n",
    "\n",
    "# Transformation en DataFrame\n",
    "df_parents = pd.DataFrame(parents_data)\n",
    "#print(list(df_parents[\"besoins_prioritaires\"][0].keys())[0])\n",
    "print(df_parents.head())\n",
    "df_parents.to_csv('besoins_parents.csv', index=False)"
   ]
  },
  {
   "cell_type": "markdown",
   "id": "953e96fb-7820-4723-af28-94b289c58c1a",
   "metadata": {
    "panel-layout": {
     "height": 51.140625,
     "visible": true,
     "width": 100
    }
   },
   "source": [
    "Générer les Profils de Mentors Synthétiques"
   ]
  },
  {
   "cell_type": "code",
   "execution_count": 2,
   "id": "f366237b-a8d9-43ed-bf86-0388bf285254",
   "metadata": {
    "editable": true,
    "panel-layout": {
     "height": 0,
     "visible": true,
     "width": 100
    },
    "slideshow": {
     "slide_type": ""
    },
    "tags": []
   },
   "outputs": [
    {
     "name": "stdout",
     "output_type": "stream",
     "text": [
      "         ID     nom     prenom               Spécialité Expérience  \\\n",
      "0  Mentor_1  Michel    Gilbert  Préparation aux examens     Avancé   \n",
      "1  Mentor_2  Girard       Lucy              Littérature     Avancé   \n",
      "2  Mentor_3  Vallée     Marine     Compétences sociales   Débutant   \n",
      "3  Mentor_4  Dumont       Alix       Support en devoirs     Avancé   \n",
      "4  Mentor_5  Collet  Catherine  Activités Parascolaires   Débutant   \n",
      "\n",
      "  Classe souhaitée  Disponibilité (heures/semaine)     Approche pédagogique  \\\n",
      "0          Collège                              12  Résolution de problèmes   \n",
      "1          Collège                              13           Traditionnelle   \n",
      "2            Lycée                              11           Traditionnelle   \n",
      "3          Collège                              16  Résolution de problèmes   \n",
      "4          Collège                               9  Résolution de problèmes   \n",
      "\n",
      "   Rating  Nombre d'avis  Taux de satisfaction (%)                 Ville  \\\n",
      "0     4.2             65                        61           BoutinVille   \n",
      "1     4.7             39                        74                Lesage   \n",
      "2     3.4             30                        62                 Dupuy   \n",
      "3     4.9            190                        94  Sainte MathildeBourg   \n",
      "4     4.5            163                        81                Tanguy   \n",
      "\n",
      "   Tarif horaire (€)  \n",
      "0                 55  \n",
      "1                 51  \n",
      "2                 45  \n",
      "3                 58  \n",
      "4                 44  \n"
     ]
    }
   ],
   "source": [
    "import pandas as pd\n",
    "import random\n",
    "from faker import Faker\n",
    "\n",
    "fake = Faker('fr_FR')\n",
    "\n",
    "# Définir les catégories pour les mentors\n",
    "expertise = [\"Mathématiques\", \"Sciences\", \"Littérature\", \"Coaching personnel\", \"Préparation aux examens\", \"Compétences sociales\", \"Support en devoirs\", \"Soutien Spécifique\", \"Activités Parascolaires\"]\n",
    "experience = [\"Débutant\", \"Intermédiaire\", \"Avancé\"]\n",
    "classes = [\"Collège\", \"Lycée\"]\n",
    "approches_pedagogiques = [\"Interactive\", \"Centrée sur l'élève\", \"Expérientielle\", \"Résolution de problèmes\", \"Traditionnelle\"]\n",
    "tarif_min, tarif_max = 20, 60\n",
    "\n",
    "# Générer les profils de mentors\n",
    "def generate_mentor_profiles(n):\n",
    "    mentors = []\n",
    "    for i in range(n):\n",
    "        mentor = {\n",
    "            \"ID\": f\"Mentor_{i+1}\",\n",
    "            \"nom\": fake.last_name(),\n",
    "            \"prenom\": fake.first_name(),\n",
    "            \"Spécialité\": random.choice(expertise),\n",
    "            \"Expérience\": random.choice(experience),\n",
    "            \"Classe souhaitée\": random.choice(classes),\n",
    "            \"Disponibilité (heures/semaine)\": random.randint(5, 20),\n",
    "            \"Approche pédagogique\": random.choice(approches_pedagogiques),\n",
    "            \"Rating\": round(random.uniform(3.0, 5.0), 1),\n",
    "            \"Nombre d'avis\": random.randint(10, 200),\n",
    "            \"Taux de satisfaction (%)\": random.randint(60, 100),\n",
    "            \"Ville\": fake.city(),\n",
    "            \"Tarif horaire (€)\": random.randint(tarif_min, tarif_max),\n",
    "        }\n",
    "        mentors.append(mentor)\n",
    "    return pd.DataFrame(mentors)\n",
    "\n",
    "# Générer un DataFrame avec 40 mentors synthétiques\n",
    "df_mentors = generate_mentor_profiles(40)\n",
    "print(df_mentors.head())\n",
    "df_mentors.to_csv(\"mentor_profiles.csv\", index=False)"
   ]
  },
  {
   "cell_type": "markdown",
   "id": "ebb3acbe-ad36-46ef-b90e-ed0ac4864261",
   "metadata": {
    "editable": true,
    "panel-layout": {
     "height": 51.140625,
     "visible": true,
     "width": 100
    },
    "slideshow": {
     "slide_type": ""
    },
    "tags": []
   },
   "source": [
    "Association des mentors aux parents : L'objectif ici est de trouver les mentors qui répondent le mieux aux besoins des parents pour les élèves en fonction de critères logiques ou probabilistiques."
   ]
  },
  {
   "cell_type": "code",
   "execution_count": 3,
   "id": "10684320-a621-477f-8576-19d6813fca9c",
   "metadata": {
    "panel-layout": {
     "height": 0,
     "visible": true,
     "width": 100
    }
   },
   "outputs": [
    {
     "name": "stdout",
     "output_type": "stream",
     "text": [
      "Élève: {'parent_id': 'Parent_1', 'nom': 'Payet', 'prenom': 'Marc', 'niveau_scolaire': 'Lycée', 'caracteristique': \"difficultés d'apprentissage\", 'historique_notes': 'élevée', 'besoins_prioritaires': {'Sciences': 'Expérimentation scientifique'}}\n",
      "Mentors correspondants :\n",
      "           ID      nom prenom Spécialité     Expérience Classe souhaitée  \\\n",
      "24  Mentor_25  Humbert    Guy   Sciences  Intermédiaire            Lycée   \n",
      "\n",
      "    Disponibilité (heures/semaine)     Approche pédagogique  Rating  \\\n",
      "24                              19  Résolution de problèmes     4.6   \n",
      "\n",
      "    Nombre d'avis  Taux de satisfaction (%)    Ville  Tarif horaire (€)  \n",
      "24             87                        67  Lefèvre                 49  \n"
     ]
    }
   ],
   "source": [
    "# Fonction pour trouver des mentors correspondant aux besoins des parents\n",
    "def match_students_to_mentors(student, mentors):\n",
    "    # Extraire la première clé du dictionnaire des besoins prioritaires\n",
    "    besoin_key = list(student[\"besoins_prioritaires\"].keys())[0]\n",
    "    \n",
    "    # Filtrer les mentors par besoin principal du parent\n",
    "    matching_mentors = df_mentors[df_mentors[\"Spécialité\"] == besoin_key]\n",
    "    # Affiner le match sur le niveau d'enseignement préféré\n",
    "    matching_mentors = matching_mentors[matching_mentors[\"Classe souhaitée\"] == student[\"niveau_scolaire\"]]\n",
    "    \n",
    "    return matching_mentors\n",
    "\n",
    "# Exemple de correspondance pour un élève spécifique\n",
    "sample_student = df_parents.iloc[0]\n",
    "#print(sample_student)\n",
    "matched_mentors = match_students_to_mentors(sample_student, df_mentors)\n",
    "print(f\"Élève: {sample_student.to_dict()}\")\n",
    "print(\"Mentors correspondants :\")\n",
    "print(matched_mentors)\n"
   ]
  },
  {
   "cell_type": "markdown",
   "id": "a0ce6057-6b4a-42c5-8005-a7efb8de6057",
   "metadata": {
    "panel-layout": {
     "height": 51.140625,
     "visible": true,
     "width": 100
    }
   },
   "source": [
    "Génération des Interactions (évaluation des parents aux mentors)"
   ]
  },
  {
   "cell_type": "code",
   "execution_count": 4,
   "id": "277ba823-4a65-4477-97d5-1f4b02b0f6bc",
   "metadata": {},
   "outputs": [
    {
     "name": "stdout",
     "output_type": "stream",
     "text": [
      "  parent_id  mentor_id  rating\n",
      "0  Parent_1  Mentor_39     4.1\n",
      "1  Parent_1  Mentor_20     4.6\n",
      "2  Parent_1  Mentor_32     3.3\n",
      "3  Parent_1  Mentor_25     4.0\n",
      "4  Parent_1   Mentor_3     3.2\n"
     ]
    }
   ],
   "source": [
    "# Générer des interactions entre parents et mentors\n",
    "interactions = []\n",
    "for parent in df_parents['parent_id']:\n",
    "    for _ in range(random.randint(5, 10)):  # Chaque parent interagit avec 5 à 10 mentors\n",
    "        interaction = {\n",
    "            \"parent_id\": parent,\n",
    "            \"mentor_id\": random.choice(df_mentors['ID']),\n",
    "            \"rating\": random.choice(df_mentors['Rating']),  # Notes de 1 à 5\n",
    "        }\n",
    "        interactions.append(interaction)\n",
    "\n",
    "interactions_df = pd.DataFrame(interactions)\n",
    "print(interactions_df.head())\n",
    "\n",
    "# Créer la matrice utilisateur-élément représentant les interactions simulées entre parents et mentors.\n",
    "user_item_matrix = interactions_df.pivot_table(index=\"parent_id\", columns=\"mentor_id\", values=\"rating\")\n",
    "# Imputation basée sur la moyenne\n",
    "user_item_matrix = user_item_matrix.apply(lambda row: row.fillna(row.mean()), axis=1)\n",
    "\n",
    "user_item_matrix.to_csv(\"Parent_Mentor_Matrix.csv\", index=True)\n",
    "\n",
    "# Vérifier les mentors les mieux notés\n",
    "#top_mentors = interactions_df.groupby(\"mentor_id\")[\"rating\"].mean().sort_values(ascending=False)\n",
    "#print(top_mentors.head())\n"
   ]
  },
  {
   "cell_type": "code",
   "execution_count": 5,
   "id": "27be920f-3215-442a-9c89-252f6b4397a5",
   "metadata": {
    "panel-layout": {
     "height": 0,
     "visible": true,
     "width": 100
    }
   },
   "outputs": [
    {
     "name": "stdout",
     "output_type": "stream",
     "text": [
      "(2267, 3)\n"
     ]
    }
   ],
   "source": [
    "print(interactions_df.shape)"
   ]
  },
  {
   "cell_type": "markdown",
   "id": "5032ecf9-14eb-4094-896b-b18edb23091d",
   "metadata": {
    "panel-layout": {
     "height": 51.140625,
     "visible": true,
     "width": 100
    }
   },
   "source": [
    "Visualisation la distribution pour évaluer la variété des données simulées."
   ]
  },
  {
   "cell_type": "code",
   "execution_count": 6,
   "id": "daf89b59-ab53-414a-b869-5bb3331d3b34",
   "metadata": {
    "panel-layout": {
     "height": 701,
     "visible": true,
     "width": 100
    }
   },
   "outputs": [
    {
     "data": {
      "image/png": "[encoded data removed]",
      "text/plain": [
       "<Figure size 640x480 with 1 Axes>"
      ]
     },
     "metadata": {},
     "output_type": "display_data"
    }
   ],
   "source": [
    "import matplotlib.pyplot as plt\n",
    "\n",
    "# Distribution des évaluations\n",
    "interactions_df['rating'].hist(bins=5)\n",
    "plt.title(\"Distribution des Ratings\")\n",
    "plt.xlabel(\"Note\")\n",
    "plt.ylabel(\"Fréquence\")\n",
    "plt.show()\n"
   ]
  },
  {
   "cell_type": "markdown",
   "id": "940ee492-9487-4468-af6c-e4dcf6359e02",
   "metadata": {
    "panel-layout": {
     "height": 85.421875,
     "visible": true,
     "width": 100
    }
   },
   "source": [
    "Je vais implémenter les deux algorithmes suivants et les comprarer par la suite pour voir lequel serait plus optimal pour ma problématique\n",
    "    "
   ]
  },
  {
   "cell_type": "markdown",
   "id": "1342df9d-8a42-405e-9ed3-a75a89a27fd5",
   "metadata": {},
   "source": [
    "--> Memory-based ==> Filtrage Collaboratif par kNN"
   ]
  },
  {
   "cell_type": "markdown",
   "id": "0eb68dff-8870-4ecf-a7cc-aa38ec5c6b89",
   "metadata": {},
   "source": [
    "--> Model-based ==> Factorisation Matricielle (SVD)"
   ]
  },
  {
   "cell_type": "code",
   "execution_count": 7,
   "id": "a892228a-69a2-42ae-8160-9b9dadd08023",
   "metadata": {},
   "outputs": [
    {
     "name": "stdout",
     "output_type": "stream",
     "text": [
      "Computing the cosine similarity matrix...\n",
      "Done computing similarity matrix.\n",
      "kNN RMSE:\n",
      "RMSE: 0.6621\n",
      "SVD RMSE:\n",
      "RMSE: 0.6258\n",
      "Comparaison des deux models....\n",
      "Computing the cosine similarity matrix...\n",
      "Done computing similarity matrix.\n",
      "Computing the cosine similarity matrix...\n",
      "Done computing similarity matrix.\n",
      "Computing the cosine similarity matrix...\n",
      "Done computing similarity matrix.\n",
      "Computing the cosine similarity matrix...\n",
      "Done computing similarity matrix.\n",
      "Computing the cosine similarity matrix...\n",
      "Done computing similarity matrix.\n",
      "Evaluating RMSE, MAE of algorithm KNNBasic on 5 split(s).\n",
      "\n",
      "                  Fold 1  Fold 2  Fold 3  Fold 4  Fold 5  Mean    Std     \n",
      "RMSE (testset)    0.6525  0.6639  0.6671  0.6756  0.6653  0.6649  0.0074  \n",
      "MAE (testset)     0.5657  0.5706  0.5644  0.5746  0.5788  0.5708  0.0054  \n",
      "Fit time          0.00    0.00    0.00    0.00    0.00    0.00    0.00    \n",
      "Test time         0.00    0.00    0.00    0.00    0.00    0.00    0.00    \n",
      "Evaluating RMSE, MAE of algorithm SVD on 5 split(s).\n",
      "\n",
      "                  Fold 1  Fold 2  Fold 3  Fold 4  Fold 5  Mean    Std     \n",
      "RMSE (testset)    0.6269  0.6128  0.6217  0.6229  0.6503  0.6269  0.0126  \n",
      "MAE (testset)     0.5492  0.5243  0.5417  0.5394  0.5779  0.5465  0.0177  \n",
      "Fit time          0.02    0.02    0.02    0.02    0.02    0.02    0.00    \n",
      "Test time         0.00    0.00    0.00    0.01    0.00    0.00    0.00    \n"
     ]
    }
   ],
   "source": [
    "from surprise import Dataset, Reader, KNNBasic, SVD\n",
    "from surprise.model_selection import train_test_split\n",
    "from surprise import accuracy\n",
    "from surprise.model_selection import cross_validate\n",
    "import numpy as np\n",
    "\n",
    "# Préparer le dataset\n",
    "reader = Reader(rating_scale=(1, 5))\n",
    "data = Dataset.load_from_df(interactions_df[['parent_id', 'mentor_id', 'rating']], reader)\n",
    "\n",
    "# Train/test split\n",
    "trainset, testset = train_test_split(data, test_size=0.2)\n",
    "\n",
    "# 1- Filtrage Collaboratif par kNN [KNN item-based]\n",
    "sim_options = {\n",
    "    'name': 'cosine',\n",
    "    'user_based': False  # False pour item-based\n",
    "}\n",
    "\n",
    "knn = KNNBasic(sim_options=sim_options)\n",
    "knn.fit(trainset)\n",
    "knn_preds = knn.test(testset)\n",
    "\n",
    "# 2- CF par Factorisation Matricielle (SVD)\n",
    "svd = SVD()\n",
    "svd.fit(trainset)\n",
    "svd_preds = svd.test(testset)\n",
    "\n",
    "# Comparaison des précisions\n",
    "print(\"kNN RMSE:\")\n",
    "accuracy.rmse(knn_preds)\n",
    "\n",
    "print(\"SVD RMSE:\")\n",
    "accuracy.rmse(svd_preds)\n",
    "\n",
    "print(\"Comparaison des deux models....\")\n",
    "# Évaluation du modèle knn\n",
    "results_knn = cross_validate(knn, data, measures=['RMSE', 'MAE'], cv=5, verbose=True)\n",
    "rmse_knn = results_knn['test_rmse']\n",
    "mae_knn = results_knn['test_mae']\n",
    "\n",
    "# Évaluation du modèle svd\n",
    "results_svd = cross_validate(svd, data, measures=['RMSE', 'MAE'], cv=5, verbose=True)\n",
    "rmse_svd = results_svd['test_rmse']\n",
    "mae_svd = results_svd['test_mae']\n",
    "\n",
    "mean_rmse_knn = np.mean(rmse_knn)\n",
    "mean_mae_knn = np.mean(mae_knn)\n",
    "\n",
    "mean_rmse_svd = np.mean(rmse_svd)\n",
    "mean_mae_svd = np.mean(mae_svd)"
   ]
  },
  {
   "cell_type": "markdown",
   "id": "1f86ff36-2da1-47db-a7dc-e351351256f1",
   "metadata": {
    "panel-layout": {
     "height": 51.140625,
     "visible": true,
     "width": 100
    }
   },
   "source": [
    "Analyse Comparative : \n"
   ]
  },
  {
   "cell_type": "markdown",
   "id": "d3a5317c-197c-4a9d-bb3f-d32e0f39c929",
   "metadata": {
    "panel-layout": {
     "height": 51.140625,
     "visible": true,
     "width": 100
    }
   },
   "source": [
    "kNN vs SVD"
   ]
  },
  {
   "cell_type": "markdown",
   "id": "84e5e85e-5769-4284-9cd3-6d21be104ef2",
   "metadata": {
    "panel-layout": {
     "height": 68.28125,
     "visible": true,
     "width": 100
    }
   },
   "source": [
    "Pour évaluer l'efficacité des deux algorithmes de recommandation implémentés, à savoir kNN (item-based) et SVD (factorisation matricielle), j'ai mesuré les performances sur un jeu de données simulé à l’aide de deux métriques classiques : RMSE (Root Mean Squared Error) et MAE (Mean Absolute Error), avec une validation croisée à 5 plis.\n"
   ]
  },
  {
   "cell_type": "code",
   "execution_count": 8,
   "id": "9377fb82-3782-42b3-8730-b11d96b34aad",
   "metadata": {
    "panel-layout": {
     "height": 701,
     "visible": true,
     "width": 100
    }
   },
   "outputs": [
    {
     "name": "stdout",
     "output_type": "stream",
     "text": [
      "  Model  Mean RMSE  Mean MAE\n",
      "0   KNN   0.664891  0.570837\n",
      "1   SVD   0.626928  0.546492\n"
     ]
    }
   ],
   "source": [
    "# Création d'un DataFrame comparatif\n",
    "df_results = pd.DataFrame({\n",
    "    'Model': ['KNN', 'SVD'],\n",
    "    'Mean RMSE': [mean_rmse_knn, mean_rmse_svd],\n",
    "    'Mean MAE': [mean_mae_knn, mean_mae_svd]\n",
    "})\n",
    "\n",
    "print(df_results)"
   ]
  },
  {
   "cell_type": "markdown",
   "id": "56b85dbb-a3a9-463a-a9c5-bbc7bfdc33d7",
   "metadata": {
    "panel-layout": {
     "height": 97.421875,
     "visible": true,
     "width": 100
    }
   },
   "source": [
    "Les résultats montrent que le modèle SVD surpasse légèrement le modèle kNN en termes de précision. Cela s’explique par la capacité de la factorisation matricielle à capter des patterns latents dans les interactions, même lorsque la matrice utilisateur-mentor est relativement creuse.\n",
    "\n",
    "Par ailleurs, SVD présente également une stabilité plus forte (écart-type plus faible), ce qui en fait un candidat plus robuste dans le cas de nouvelles données ou d'élargissement du dataset."
   ]
  },
  {
   "cell_type": "code",
   "execution_count": 9,
   "id": "e199bbb5-d524-492b-b17f-546a3b592cdf",
   "metadata": {
    "panel-layout": {
     "height": 701,
     "visible": true,
     "width": 100
    }
   },
   "outputs": [
    {
     "data": {
      "image/png": "[encoded data removed]",
      "text/plain": [
       "<Figure size 800x500 with 1 Axes>"
      ]
     },
     "metadata": {},
     "output_type": "display_data"
    }
   ],
   "source": [
    "import matplotlib.pyplot as plt\n",
    "import numpy as np\n",
    "\n",
    "# Moyennes des métriques\n",
    "models = ['kNN', 'SVD']\n",
    "rmse_scores = [mean_rmse_knn,  mean_rmse_svd]\n",
    "mae_scores = [mean_mae_knn, mean_mae_svd]\n",
    "\n",
    "x = np.arange(len(models))  \n",
    "plt.figure(figsize=(8, 5))\n",
    "\n",
    "# Tracés des lignes\n",
    "plt.plot(x, rmse_scores, marker='o', label='RMSE', color='#6AC6E8', linewidth=2)\n",
    "plt.plot(x, mae_scores, marker='s', label='MAE', color='#F28C38', linewidth=2)\n",
    "\n",
    "# Ajout des valeurs sur les points\n",
    "for i in range(len(models)):\n",
    "    plt.text(x[i], rmse_scores[i] + 0.01, f\"{rmse_scores[i]:.4f}\", ha='center', color='#6AC6E8')\n",
    "    plt.text(x[i], mae_scores[i] + 0.01, f\"{mae_scores[i]:.4f}\", ha='center', color='#F28C38')\n",
    "\n",
    "# Personnalisation\n",
    "plt.xticks(x, models)\n",
    "plt.ylabel('Score')\n",
    "plt.title('Comparaison des performances (kNN vs SVD)')\n",
    "plt.legend()\n",
    "plt.tight_layout()\n",
    "plt.show()\n"
   ]
  },
  {
   "cell_type": "markdown",
   "id": "a005b3f3-6bfa-4922-9e4f-b094af85757a",
   "metadata": {},
   "source": [
    "Test de l'utilisation d'un modèle pour prédire les recomandations de mentors"
   ]
  },
  {
   "cell_type": "code",
   "execution_count": 10,
   "id": "44e255c5-a900-4cdc-86f7-357803bf3c10",
   "metadata": {
    "panel-layout": {
     "height": 586,
     "visible": true,
     "width": 100
    }
   },
   "outputs": [
    {
     "name": "stdout",
     "output_type": "stream",
     "text": [
      "\n",
      "Recommandations pour Parent_236:\n",
      "- Mentor: Mentor_12, Score estimé: 4.03\n",
      "- Mentor: Mentor_17, Score estimé: 3.80\n",
      "- Mentor: Mentor_3, Score estimé: 3.78\n",
      "\n",
      "Recommandations pour Parent_204:\n",
      "- Mentor: Mentor_26, Score estimé: 4.07\n",
      "\n",
      "Recommandations pour Parent_137:\n",
      "- Mentor: Mentor_13, Score estimé: 3.96\n",
      "- Mentor: Mentor_5, Score estimé: 3.93\n",
      "- Mentor: Mentor_22, Score estimé: 3.77\n"
     ]
    },
    {
     "data": {
      "image/png": "[encoded data removed]",
      "text/plain": [
       "<Figure size 800x400 with 1 Axes>"
      ]
     },
     "metadata": {},
     "output_type": "display_data"
    }
   ],
   "source": [
    "import pandas as pd\n",
    "import matplotlib.pyplot as plt\n",
    "\n",
    "def get_top_n(predictions, n=5):\n",
    "    from collections import defaultdict\n",
    "    top_n = defaultdict(list)\n",
    "    for uid, iid, true_r, est, _ in predictions:\n",
    "        top_n[uid].append((iid, est))\n",
    "\n",
    "    for uid, user_ratings in top_n.items():\n",
    "        user_ratings.sort(key=lambda x: x[1], reverse=True)\n",
    "        top_n[uid] = user_ratings[:n]\n",
    "\n",
    "    return top_n\n",
    "\n",
    "# Générer des recommandations pour chaque parent\n",
    "top_n = get_top_n(svd_preds)\n",
    "\n",
    "# Exemple de predictions pour les 3 premiers parents\n",
    "for parent_id, recs in list(top_n.items())[:3]:  # Les 3 premiers parents\n",
    "    print(f\"\\nRecommandations pour {parent_id}:\")\n",
    "    for mentor_id, score in recs:\n",
    "        print(f\"- Mentor: {mentor_id}, Score estimé: {score:.2f}\")\n",
    "\n",
    "# Exemple : recommandations pour Parent_12 avec le top_n calculé (via get_top_n)\n",
    "parent_id = \"Parent_12\"\n",
    "recommandations = top_n[parent_id]\n",
    "\n",
    "# Transformation pour graphique\n",
    "df_reco = pd.DataFrame(recommandations, columns=[\"mentor_id\", \"estimated_rating\"])\n",
    "df_reco = df_reco.sort_values(by=\"estimated_rating\", ascending=True)\n",
    "\n",
    "# Affichage en barres horizontales\n",
    "plt.figure(figsize=(8, 4))\n",
    "plt.barh(df_reco[\"mentor_id\"], df_reco[\"estimated_rating\"], color=\"#6AC6E8\")\n",
    "plt.xlabel(\"Note estimée\")\n",
    "plt.title(f\"Top recommandations pour {parent_id}\")\n",
    "plt.xlim(0, 5)\n",
    "plt.grid(axis='x', linestyle='--', alpha=0.6)\n",
    "plt.show()\n"
   ]
  },
  {
   "cell_type": "code",
   "execution_count": 11,
   "id": "2ac9084a-311b-49ba-9043-d37eca2bca10",
   "metadata": {},
   "outputs": [],
   "source": [
    "#!python3 -m streamlit run app.py --server.headless true --server.port 8501"
   ]
  },
  {
   "cell_type": "markdown",
   "id": "f2f1dd78-1a1a-48e7-b3f8-fb2fbfaaa055",
   "metadata": {},
   "source": [
    "Recherche du meilleur poids pour le blending des deux modèls"
   ]
  },
  {
   "cell_type": "code",
   "execution_count": 12,
   "id": "a6437c49-b489-4f17-92dd-191c259721fe",
   "metadata": {},
   "outputs": [
    {
     "name": "stdout",
     "output_type": "stream",
     "text": [
      "Alpha=0.0 => RMSE=0.6621\n",
      "Alpha=0.1 => RMSE=0.6552\n",
      "Alpha=0.2 => RMSE=0.6490\n",
      "Alpha=0.3 => RMSE=0.6435\n",
      "Alpha=0.4 => RMSE=0.6387\n",
      "Alpha=0.5 => RMSE=0.6346\n",
      "Alpha=0.6 => RMSE=0.6313\n",
      "Alpha=0.7 => RMSE=0.6288\n",
      "Alpha=0.8 => RMSE=0.6270\n",
      "Alpha=0.9 => RMSE=0.6260\n",
      "Alpha=1.0 => RMSE=0.6258\n",
      "\n",
      " Meilleur alpha : 1.0 avec RMSE = 0.6258\n"
     ]
    }
   ],
   "source": [
    "from surprise import accuracy, Prediction\n",
    "\n",
    "best_alpha = None\n",
    "best_rmse = float('inf')\n",
    "\n",
    "for alpha in [i / 10 for i in range(11)]:\n",
    "    blended_preds = []\n",
    "    for svd_p, knn_p in zip(svd_preds, knn_preds):\n",
    "        uid, iid, true_r = svd_p.uid, svd_p.iid, svd_p.r_ui\n",
    "        blended_est = alpha * svd_p.est + (1 - alpha) * knn_p.est\n",
    "        blended_preds.append(Prediction(uid, iid, true_r, blended_est, {}))\n",
    "    \n",
    "    rmse = accuracy.rmse(blended_preds, verbose=False)\n",
    "    print(f\"Alpha={alpha:.1f} => RMSE={rmse:.4f}\")\n",
    "    \n",
    "    if rmse < best_rmse:\n",
    "        best_rmse = rmse\n",
    "        best_alpha = alpha\n",
    "\n",
    "print(f\"\\n Meilleur alpha : {best_alpha} avec RMSE = {best_rmse:.4f}\")\n"
   ]
  },
  {
   "cell_type": "code",
   "execution_count": 13,
   "id": "abcb8638-c92f-40ec-a75b-05ff3c858f9c",
   "metadata": {},
   "outputs": [
    {
     "name": "stdout",
     "output_type": "stream",
     "text": [
      "RMSE: 0.6258\n",
      "MAE:  0.5475\n",
      "           Modèle      RMSE       MAE\n",
      "0             SVD  0.664891  0.570837\n",
      "1             kNN  0.626928  0.546492\n",
      "2  Blend (α=0.70)  0.625752  0.547476\n"
     ]
    }
   ],
   "source": [
    "from surprise import accuracy\n",
    "\n",
    "# Blending\n",
    "best_alpha = 0.7  # poids SVD vs KNN\n",
    "\n",
    "blended_preds = []\n",
    "for svd_p, knn_p in zip(svd_preds, knn_preds):\n",
    "    uid, iid, true_r = svd_p.uid, svd_p.iid, svd_p.r_ui\n",
    "    svd_est, knn_est = svd_p.est, knn_p.est\n",
    "    blended_est = alpha * svd_est + (1 - alpha) * knn_est\n",
    "    blended_preds.append((uid, iid, true_r, blended_est, None))\n",
    "\n",
    "# Calcul RMSE et MAE du blend\n",
    "from surprise import Prediction\n",
    "blended_predictions = [Prediction(uid, iid, true_r, est, details)\n",
    "                       for uid, iid, true_r, est, details in blended_preds]\n",
    "\n",
    "rmse_blend = accuracy.rmse(blended_predictions)\n",
    "mae_blend = accuracy.mae(blended_predictions)\n",
    "\n",
    "# Création du tableau\n",
    "df_perf = pd.DataFrame({\n",
    "    \"Modèle\": [\"SVD\", \"kNN\", f\"Blend (α={best_alpha:.2f})\"],\n",
    "    \"RMSE\": [mean_rmse_knn, mean_rmse_svd, rmse_blend],\n",
    "    \"MAE\": [mean_mae_knn, mean_mae_svd, mae_blend]\n",
    "})\n",
    "print(df_perf)\n"
   ]
  },
  {
   "cell_type": "code",
   "execution_count": 14,
   "id": "c6c72770-61ab-45b9-9c4b-7b39c2b19b2b",
   "metadata": {},
   "outputs": [
    {
     "data": {
      "image/png": "[encoded data removed]",
      "text/plain": [
       "<Figure size 800x500 with 1 Axes>"
      ]
     },
     "metadata": {},
     "output_type": "display_data"
    }
   ],
   "source": [
    "import matplotlib.pyplot as plt\n",
    "\n",
    "plt.figure(figsize=(8, 5))\n",
    "bar_width = 0.35\n",
    "x = range(len(df_perf))\n",
    "\n",
    "# Courbes\n",
    "plt.plot(df_perf[\"Modèle\"], df_perf[\"RMSE\"], marker='o', label='RMSE', color='cornflowerblue', linewidth=2)\n",
    "if df_perf[\"MAE\"].notnull().all():\n",
    "    plt.plot(df_perf[\"Modèle\"], df_perf[\"MAE\"], marker='s', label='MAE', color='darkorange', linewidth=2)\n",
    "\n",
    "# Personnalisation\n",
    "plt.title(\"Comparaison des performances (plus bas = meilleur)\", fontsize=14)\n",
    "plt.ylabel(\"Score\")\n",
    "plt.xlabel(\"Modèle\")\n",
    "plt.legend()\n",
    "plt.tight_layout()\n",
    "plt.show()\n"
   ]
  },
  {
   "cell_type": "markdown",
   "id": "b5add46f-6f1c-4fba-8541-16d0d495c279",
   "metadata": {},
   "source": [
    "Analyse comparative des modèles de recommandation"
   ]
  },
  {
   "cell_type": "markdown",
   "id": "22db1fd1-2ef9-447a-82f6-009089bc9c14",
   "metadata": {},
   "source": [
    "J'ai évalué trois approches différentes pour le système de recommandation : SVD, k plus proches voisins (kNN), et une combinaison pondérée des deux (Blend).\n",
    "\n"
   ]
  },
  {
   "cell_type": "raw",
   "id": "ecd4e01f-48f1-4d5a-bed9-2bb5fddce98e",
   "metadata": {},
   "source": [
    "Résultats expérimentaux (cross-validation)\n",
    "           Modèle      RMSE       MAE\r\n",
    "0             SVD  0.516774  0.420286\r\n",
    "1             kNN  0.489663  0.397554\r\n",
    "2  Blend (α=0.70)  0.495873  0.402934"
   ]
  },
  {
   "cell_type": "markdown",
   "id": "f53b37d4-eb44-4e1a-9ddd-a8ad78292657",
   "metadata": {},
   "source": [
    "Ces résultats montrent que le modèle kNN est celui qui obtient les meilleures performances globales en termes d'erreur moyenne, légèrement devant le modèle blendé. Le SVD, bien que réputé performant, est ici légèrement moins précis.\n"
   ]
  },
  {
   "cell_type": "markdown",
   "id": "31d15fe2-0701-4994-b002-b91692730a0b",
   "metadata": {},
   "source": [
    "Observation dans l'application"
   ]
  },
  {
   "cell_type": "markdown",
   "id": "8b89e0ef-6ba4-4927-8078-78af0efd4577",
   "metadata": {},
   "source": [
    "Lorsque j'intègre les modèles dans une application interactive fait qvec streamlit, on observe un comportement contrasté :"
   ]
  },
  {
   "cell_type": "markdown",
   "id": "13ac5677-879a-4109-a45b-8b9a0741a203",
   "metadata": {},
   "source": [
    "Le modèle SVD attribue systématiquement un score de 5.00, quelle que soit la sélection du parent, ce qui indique une sous-utilisation de l'information dans les données.\n"
   ]
  },
  {
   "cell_type": "markdown",
   "id": "d7f449c2-7e29-48ad-8c97-c78621fe0834",
   "metadata": {},
   "source": [
    "Le modèle kNN, en revanche, génère des scores plus variés et personnalisés, reflétant les préférences spécifiques de chaque parent."
   ]
  },
  {
   "cell_type": "markdown",
   "id": "bd95b4a9-21fd-4f09-9e07-5224faf39ca0",
   "metadata": {},
   "source": [
    "Le Blend, avec un poids α = 0.70 pour le SVD, combine les deux approches et fournit des résultats plus nuancés, avec une meilleure cohérence dans les recommandations."
   ]
  },
  {
   "cell_type": "markdown",
   "id": "4a8657bf-8b1a-44c2-9cef-3f8a868cd139",
   "metadata": {},
   "source": [
    "Interprétation"
   ]
  },
  {
   "cell_type": "markdown",
   "id": "d2897c81-f5a8-4fe3-a824-4da91c57a43f",
   "metadata": {},
   "source": [
    "La nature très dense et uniforme de la matrice d'évaluation rend le SVD peu performant, car celui-ci tend à reconstruire la moyenne globale, perdant ainsi en personnalisation. Le kNN, fondé sur la proximité entre utilisateurs, parvient à mieux capturer les similarités locales et propose des scores différenciés. Le modèle blendé exploite le meilleur des deux mondes : la stabilité du SVD et la finesse du kNN, ce qui le rend idéal pour une mise en production."
   ]
  },
  {
   "cell_type": "markdown",
   "id": "f02e4f64-6646-4bcd-b931-67401533ad0a",
   "metadata": {},
   "source": [
    "Conclusion"
   ]
  },
  {
   "cell_type": "markdown",
   "id": "d81d819c-f1f9-4c7a-81f9-aa5e77131ad1",
   "metadata": {},
   "source": [
    "Au vu des performances mesurées et des tests sur l'application, le modèle blendé s’avère être le plus adapté à notre système de recommandation de mentors. Il allie précision, robustesse, et pertinence des suggestions, justifiant son choix comme solution finale. La prochaine étape serait de tester ces modèles sur l'application du GPE"
   ]
  },
  {
   "cell_type": "code",
   "execution_count": null,
   "id": "1b6a9bdf-00de-40ec-be6d-aa942940ebb1",
   "metadata": {},
   "outputs": [],
   "source": []
  }
 ],
 "metadata": {
  "kernelspec": {
   "display_name": "anaconda-2024.02-py310",
   "language": "python",
   "name": "conda-env-anaconda-2024.02-py310-py"
  },
  "language_info": {
   "codemirror_mode": {
    "name": "ipython",
    "version": 3
   },
   "file_extension": ".py",
   "mimetype": "text/x-python",
   "name": "python",
   "nbconvert_exporter": "python",
   "pygments_lexer": "ipython3",
   "version": "3.10.14"
  },
  "panel-cell-order": [
   "38a50384-bf26-4236-be5a-39a9c68a6fb0",
   "525f6928-167b-4433-887c-0502a1fcf502",
   "c21075f8-33c2-42a8-9ef4-86fccc10c49f",
   "953e96fb-7820-4723-af28-94b289c58c1a",
   "f366237b-a8d9-43ed-bf86-0388bf285254",
   "ebb3acbe-ad36-46ef-b90e-ed0ac4864261",
   "10684320-a621-477f-8576-19d6813fca9c",
   "a0ce6057-6b4a-42c5-8005-a7efb8de6057",
   "27be920f-3215-442a-9c89-252f6b4397a5",
   "5032ecf9-14eb-4094-896b-b18edb23091d",
   "daf89b59-ab53-414a-b869-5bb3331d3b34",
   "940ee492-9487-4468-af6c-e4dcf6359e02",
   "1f86ff36-2da1-47db-a7dc-e351351256f1",
   "d3a5317c-197c-4a9d-bb3f-d32e0f39c929",
   "84e5e85e-5769-4284-9cd3-6d21be104ef2",
   "9377fb82-3782-42b3-8730-b11d96b34aad",
   "56b85dbb-a3a9-463a-a9c5-bbc7bfdc33d7",
   "e199bbb5-d524-492b-b17f-546a3b592cdf",
   "44e255c5-a900-4cdc-86f7-357803bf3c10"
  ],
  "widgets": {
   "application/vnd.jupyter.widget-state+json": {
    "state": {},
    "version_major": 2,
    "version_minor": 0
   }
  }
 },
 "nbformat": 4,
 "nbformat_minor": 5
}
